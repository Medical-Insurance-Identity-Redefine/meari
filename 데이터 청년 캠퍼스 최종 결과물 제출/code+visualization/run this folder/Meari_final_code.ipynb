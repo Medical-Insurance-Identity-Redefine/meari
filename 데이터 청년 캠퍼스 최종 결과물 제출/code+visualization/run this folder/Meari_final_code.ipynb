{
 "cells": [
  {
   "cell_type": "code",
   "execution_count": 131,
   "metadata": {},
   "outputs": [],
   "source": [
    "#어플에서 input되는 값\n",
    "birthday = '9810062'\n",
    "diseaseCode = 'I499'\n",
    "emergency = False"
   ]
  },
  {
   "cell_type": "markdown",
   "metadata": {},
   "source": [
    "# create-model"
   ]
  },
  {
   "cell_type": "code",
   "execution_count": 132,
   "metadata": {},
   "outputs": [],
   "source": [
    "#NANONETS를 사용하기 위해 필요한 API KEY와 MODEL 할당\n",
    "NANONETS_API_KEY = 'YzUkAjjFJsQndp-09EOXR0woutkN8FjG'\n",
    "NANONETS_MODEL_ID = '37baa2d5-c5a2-4ada-9d3f-07eb99288cca'\n",
    "\n",
    "model_id = NANONETS_MODEL_ID\n",
    "api_key = NANONETS_API_KEY"
   ]
  },
  {
   "cell_type": "code",
   "execution_count": 133,
   "metadata": {},
   "outputs": [],
   "source": [
    "import requests, os, json\n",
    "  \n",
    "url = \"https://app.nanonets.com/api/v2/ObjectDetection/Model/\"\n",
    "payload = \"{\\\"categories\\\" : [\\\"number_plate\\\"], \\\"model_type\\\": \\\"ocr\\\"}\"\n",
    "headers = {'Content-Type': \"application/json\",}\n",
    "\n",
    "response = requests.request(\"POST\", url, headers=headers, auth=requests.auth.HTTPBasicAuth(api_key, ''), data=payload)"
   ]
  },
  {
   "cell_type": "markdown",
   "metadata": {},
   "source": [
    "# upload-training"
   ]
  },
  {
   "cell_type": "code",
   "execution_count": 134,
   "metadata": {},
   "outputs": [],
   "source": [
    "import os, requests, json\n",
    "from tqdm import tqdm\n",
    "\n",
    "pathToAnnotations = './annotations/json'\n",
    "pathToImages = './images'\n",
    "\n",
    "for root, dirs, files in os.walk(pathToAnnotations, topdown=False):\n",
    "    for name in tqdm(files):\n",
    "        annotation = open(os.path.join(root, name), \"r\")\n",
    "        filePath = os.path.join(root, name)\n",
    "        imageName, ext = name.split(\".\")\n",
    "        if imageName == \"\":\n",
    "            continue\n",
    "        imagePath = os.path.join(pathToImages, imageName + '.jpg')\n",
    "        jsonData = annotation.read()\n",
    "        url = 'https://app.nanonets.com/api/v2/ObjectDetection/Model/' + model_id + '/UploadFile/'\n",
    "        data = {'file' :open(imagePath, 'rb'),  'data' :('', '[{\"filename\":\"' + imageName+\".jpg\" + '\", \"object\": '+ jsonData+'}]'),   'modelId' :('', model_id)}       \n",
    "        response = requests.post(url, auth=requests.auth.HTTPBasicAuth(api_key, ''), files=data)\n",
    "        if response.status_code > 250 or response.status_code<200:\n",
    "            print(response.text), response.status_code"
   ]
  },
  {
   "cell_type": "markdown",
   "metadata": {},
   "source": [
    "# train-model"
   ]
  },
  {
   "cell_type": "code",
   "execution_count": 135,
   "metadata": {},
   "outputs": [],
   "source": [
    "import requests, os\n",
    "\n",
    "url = 'https://app.nanonets.com/api/v2/ObjectDetection/Model/' + model_id + '/Train/'\n",
    "querystring = {'modelId': model_id}\n",
    "response = requests.request('POST', url, auth=requests.auth.HTTPBasicAuth(api_key, ''), params=querystring)"
   ]
  },
  {
   "cell_type": "markdown",
   "metadata": {},
   "source": [
    "# Model State"
   ]
  },
  {
   "cell_type": "code",
   "execution_count": 136,
   "metadata": {},
   "outputs": [
    {
     "name": "stdout",
     "output_type": "stream",
     "text": [
      "NEXT RUN: python ./code/prediction.py ./images/151.jpg\n"
     ]
    }
   ],
   "source": [
    "import requests, os, json\n",
    "model_id = NANONETS_MODEL_ID\n",
    "api_key = NANONETS_API_KEY\n",
    "\n",
    "url = 'https://app.nanonets.com/api/v2/ObjectDetection/Model/' + model_id\n",
    "response = requests.request('GET', url, auth=requests.auth.HTTPBasicAuth(api_key,''))\n",
    "state = json.loads(response.text)[\"state\"]\n",
    "status = json.loads(response.text)[\"status\"]\n",
    "\n",
    "if state != 5:\n",
    "    print(\"The model isn't ready yet, its status is:\", status)\n",
    "    print(\"We will send you an email when the model is ready. If you are impatient, run this script again in 10 minutes to check.\")\n",
    "else:\n",
    "    print(\"NEXT RUN: python ./code/prediction.py ./images/151.jpg\")"
   ]
  },
  {
   "cell_type": "markdown",
   "metadata": {},
   "source": [
    "# Model Predict"
   ]
  },
  {
   "cell_type": "code",
   "execution_count": 137,
   "metadata": {},
   "outputs": [],
   "source": [
    "image_path = r\"docImage.jpg\""
   ]
  },
  {
   "cell_type": "code",
   "execution_count": 138,
   "metadata": {},
   "outputs": [],
   "source": [
    "import requests, os, sys\n",
    "import json\n",
    "import unicodedata\n",
    "import time\n",
    "\n",
    "# model_id = NANONETS_MODEL_ID\n",
    "# api_key = NANONETS_API_KEY\n",
    "\n",
    "#서버에서 결과를 보내주기 때문에 파일 형식은 JSON\n",
    "url = 'https://app.nanonets.com/api/v2/ObjectDetection/Model/' + model_id + '/LabelFile/'\n",
    "\n",
    "data = {'file': open(image_path, 'rb'),'modelId': ('', model_id)}\n",
    "\n",
    "response = requests.post(url, auth=requests.auth.HTTPBasicAuth(api_key, ''), files=data)\n",
    "\n",
    "#Json response parsing\n",
    "with open(\"data.json\", \"w\") as f:\n",
    "    json.dump(response.json(), f)\n",
    "data = json.load(open(\"data.json\"))"
   ]
  },
  {
   "cell_type": "code",
   "execution_count": 139,
   "metadata": {},
   "outputs": [],
   "source": [
    "diagnosisList = []\n",
    "patientList = []\n",
    "\n",
    "#0번째 테이블 내에 있는 data \n",
    "for i in data['result'][0]['prediction'][0]['cells']:\n",
    "    patientList.append(i['text'])\n",
    "patientList.reverse()\n",
    "\n",
    "#1번째 테이블 내에 있는 data \n",
    "for i in data['result'][0]['prediction'][1]['cells']:\n",
    "    diagnosisList.append(i['text'])\n",
    "diagnosisList.reverse()\n",
    "\n",
    "#가져온 리스트를 txt파일에 저장, 문제가 있을 경우 확인하기 위함임.\n",
    "with open(\"patient.txt\", \"w\") as patient:\n",
    "    for item in patientList:\n",
    "        patient.write(\"%s\\n\" % item)\n",
    "        \n",
    "with open('diagnosis.txt', 'w') as diagnosis:\n",
    "    for item in diagnosisList:\n",
    "        diagnosis.write(\"%s\\n\" % item)"
   ]
  },
  {
   "cell_type": "code",
   "execution_count": 140,
   "metadata": {},
   "outputs": [],
   "source": [
    "#데이터프레임으로 처리하기\n",
    "import pandas as pd\n",
    "\n",
    "diagnosisDF = pd.DataFrame()\n",
    "patientDF = pd.DataFrame()"
   ]
  },
  {
   "cell_type": "code",
   "execution_count": 141,
   "metadata": {},
   "outputs": [
    {
     "data": {
      "text/html": [
       "<div>\n",
       "<style scoped>\n",
       "    .dataframe tbody tr th:only-of-type {\n",
       "        vertical-align: middle;\n",
       "    }\n",
       "\n",
       "    .dataframe tbody tr th {\n",
       "        vertical-align: top;\n",
       "    }\n",
       "\n",
       "    .dataframe thead th {\n",
       "        text-align: right;\n",
       "    }\n",
       "</style>\n",
       "<table border=\"1\" class=\"dataframe\">\n",
       "  <thead>\n",
       "    <tr style=\"text-align: right;\">\n",
       "      <th></th>\n",
       "      <th>환자 등록 번호</th>\n",
       "      <th>환자 성명</th>\n",
       "      <th>진료 기간</th>\n",
       "      <th>병실</th>\n",
       "      <th>진료과목</th>\n",
       "      <th>보험자구분</th>\n",
       "      <th>구분</th>\n",
       "    </tr>\n",
       "  </thead>\n",
       "  <tbody>\n",
       "    <tr>\n",
       "      <th>1</th>\n",
       "      <td>10041004</td>\n",
       "      <td>이규영</td>\n",
       "      <td>2020.11.28</td>\n",
       "      <td>601</td>\n",
       "      <td>내과</td>\n",
       "      <td>건강 보험</td>\n",
       "      <td></td>\n",
       "    </tr>\n",
       "  </tbody>\n",
       "</table>\n",
       "</div>"
      ],
      "text/plain": [
       "   환자 등록 번호 환자 성명       진료 기간   병실 진료과목  보험자구분 구분\n",
       "1  10041004   이규영  2020.11.28  601   내과  건강 보험   "
      ]
     },
     "execution_count": 141,
     "metadata": {},
     "output_type": "execute_result"
    }
   ],
   "source": [
    "#patientList DataFrame으로 만들기.\n",
    "for t in range((len(patientList))//7): #patient의 column의 수는 7개\n",
    "    patientAppendList = []\n",
    "    for i, item in enumerate(patientList):\n",
    "         if t*7<= i < (t+1)*7:\n",
    "                patientAppendList.append(item)\n",
    "    appendSeries = pd. Series(patientAppendList)\n",
    "    patientDF = patientDF. append(appendSeries, ignore_index=True)\n",
    "    \n",
    "#보건복지부 양식이기에 column명은 동일\n",
    "patientDF.columns = [\"환자 등록 번호\",\"환자 성명\",\"진료 기간\",\"병실\",\"진료과목\",\"보험자구분\",\"구분\"]\n",
    "patientDF = patientDF.iloc[1:]\n",
    "patientDF"
   ]
  },
  {
   "cell_type": "code",
   "execution_count": 142,
   "metadata": {},
   "outputs": [
    {
     "name": "stdout",
     "output_type": "stream",
     "text": [
      "['일자', '코드', '명칭', '금액', '횟수', '일수', '총액', '일부\\n공단 부담', '급여\\n본인 부담\\n본인 부담', '전액 본인', '비급여']\n",
      "['0104 투약', '및 조제료', '', '', '', '', '', '', '', '', '']\n",
      "['2020-11-28', '645402940', '모사 메드 정 5 밀리그램', '95', '3.0000', '1', '285', '', '', '', '285']\n",
      "['2020-11-28', '645403580', '메트 마 릴정 1/250 밀리그램', '132', '2.0000', 'Z', '528', '', '', '', '528']\n",
      "['2020-11-28', '659900340', '아큐 판 주사액 20mg ( 염산 네 포팜 )', '103', '3.0000', '1', '309', '', '', '', '309']\n",
      "['2020-11-28', '621802460', '비스타 치 정 50mg ( 파비스 )', '56', '3', 'Z', '336', '', '', '', '336']\n"
     ]
    },
    {
     "data": {
      "text/html": [
       "<div>\n",
       "<style scoped>\n",
       "    .dataframe tbody tr th:only-of-type {\n",
       "        vertical-align: middle;\n",
       "    }\n",
       "\n",
       "    .dataframe tbody tr th {\n",
       "        vertical-align: top;\n",
       "    }\n",
       "\n",
       "    .dataframe thead th {\n",
       "        text-align: right;\n",
       "    }\n",
       "</style>\n",
       "<table border=\"1\" class=\"dataframe\">\n",
       "  <thead>\n",
       "    <tr style=\"text-align: right;\">\n",
       "      <th></th>\n",
       "      <th>일자</th>\n",
       "      <th>분류코드(기관)</th>\n",
       "      <th>명칭</th>\n",
       "      <th>금액</th>\n",
       "      <th>횟수</th>\n",
       "      <th>일수</th>\n",
       "      <th>총액</th>\n",
       "      <th>공단부담</th>\n",
       "      <th>본인부담</th>\n",
       "      <th>전액본인부담</th>\n",
       "      <th>비급여</th>\n",
       "    </tr>\n",
       "  </thead>\n",
       "  <tbody>\n",
       "    <tr>\n",
       "      <th>0</th>\n",
       "      <td>일자</td>\n",
       "      <td>코드</td>\n",
       "      <td>명칭</td>\n",
       "      <td>금액</td>\n",
       "      <td>횟수</td>\n",
       "      <td>일수</td>\n",
       "      <td>총액</td>\n",
       "      <td>일부\\n공단 부담</td>\n",
       "      <td>급여\\n본인 부담\\n본인 부담</td>\n",
       "      <td>전액 본인</td>\n",
       "      <td>비급여</td>\n",
       "    </tr>\n",
       "    <tr>\n",
       "      <th>1</th>\n",
       "      <td>0104 투약</td>\n",
       "      <td>및 조제료</td>\n",
       "      <td></td>\n",
       "      <td></td>\n",
       "      <td></td>\n",
       "      <td></td>\n",
       "      <td></td>\n",
       "      <td></td>\n",
       "      <td></td>\n",
       "      <td></td>\n",
       "      <td></td>\n",
       "    </tr>\n",
       "    <tr>\n",
       "      <th>2</th>\n",
       "      <td>2020-11-28</td>\n",
       "      <td>645402940</td>\n",
       "      <td>모사 메드 정 5 밀리그램</td>\n",
       "      <td>95</td>\n",
       "      <td>3.0000</td>\n",
       "      <td>1</td>\n",
       "      <td>285</td>\n",
       "      <td></td>\n",
       "      <td></td>\n",
       "      <td></td>\n",
       "      <td>285</td>\n",
       "    </tr>\n",
       "    <tr>\n",
       "      <th>3</th>\n",
       "      <td>2020-11-28</td>\n",
       "      <td>645403580</td>\n",
       "      <td>메트 마 릴정 1/250 밀리그램</td>\n",
       "      <td>132</td>\n",
       "      <td>2.0000</td>\n",
       "      <td>Z</td>\n",
       "      <td>528</td>\n",
       "      <td></td>\n",
       "      <td></td>\n",
       "      <td></td>\n",
       "      <td>528</td>\n",
       "    </tr>\n",
       "    <tr>\n",
       "      <th>4</th>\n",
       "      <td>2020-11-28</td>\n",
       "      <td>659900340</td>\n",
       "      <td>아큐 판 주사액 20mg ( 염산 네 포팜 )</td>\n",
       "      <td>103</td>\n",
       "      <td>3.0000</td>\n",
       "      <td>1</td>\n",
       "      <td>309</td>\n",
       "      <td></td>\n",
       "      <td></td>\n",
       "      <td></td>\n",
       "      <td>309</td>\n",
       "    </tr>\n",
       "    <tr>\n",
       "      <th>5</th>\n",
       "      <td>2020-11-28</td>\n",
       "      <td>621802460</td>\n",
       "      <td>비스타 치 정 50mg ( 파비스 )</td>\n",
       "      <td>56</td>\n",
       "      <td>3</td>\n",
       "      <td>Z</td>\n",
       "      <td>336</td>\n",
       "      <td></td>\n",
       "      <td></td>\n",
       "      <td></td>\n",
       "      <td>336</td>\n",
       "    </tr>\n",
       "  </tbody>\n",
       "</table>\n",
       "</div>"
      ],
      "text/plain": [
       "           일자   분류코드(기관)                         명칭   금액      횟수  일수   총액  \\\n",
       "0          일자         코드                         명칭   금액      횟수  일수   총액   \n",
       "1     0104 투약      및 조제료                                                    \n",
       "2  2020-11-28  645402940             모사 메드 정 5 밀리그램   95  3.0000   1  285   \n",
       "3  2020-11-28  645403580         메트 마 릴정 1/250 밀리그램  132  2.0000   Z  528   \n",
       "4  2020-11-28  659900340  아큐 판 주사액 20mg ( 염산 네 포팜 )  103  3.0000   1  309   \n",
       "5  2020-11-28  621802460       비스타 치 정 50mg ( 파비스 )   56       3   Z  336   \n",
       "\n",
       "        공단부담              본인부담 전액본인부담  비급여  \n",
       "0  일부\\n공단 부담  급여\\n본인 부담\\n본인 부담  전액 본인  비급여  \n",
       "1                                           \n",
       "2                                      285  \n",
       "3                                      528  \n",
       "4                                      309  \n",
       "5                                      336  "
      ]
     },
     "execution_count": 142,
     "metadata": {},
     "output_type": "execute_result"
    }
   ],
   "source": [
    "#diagnosisList DataFrame으로 만들기.\n",
    "for t in range((len(diagnosisList))//11): #diagnosis의 column의 수는 11개\n",
    "    diagnosisAppendList = []\n",
    "    for i, item in enumerate(diagnosisList):\n",
    "        if t*11<= i < (t+1)*11:\n",
    "            diagnosisAppendList.append(item)\n",
    "    print(diagnosisAppendList)\n",
    "    appendSeries = pd. Series(diagnosisAppendList)\n",
    "    diagnosisDF = diagnosisDF. append(appendSeries, ignore_index=True)\n",
    "    \n",
    "    \n",
    "#보건복지부 양식이기에 column은 동일\n",
    "diagnosisDF.columns = ['일자', '분류코드(기관)', '명칭', '금액', '횟수', '일수', '총액', '공단부담', '본인부담', '전액본인부담', '비급여']\n",
    "diagnosisDF"
   ]
  },
  {
   "cell_type": "code",
   "execution_count": 143,
   "metadata": {},
   "outputs": [],
   "source": [
    "#중분류숫자만으로 중분류코드 완성하기\n",
    "Dic = {'0308': '0308 검사료',\n",
    " '0311': '0311 치료재료대',\n",
    " '0318': '0318 초음파진단료',\n",
    " '0320': '0320 기타',\n",
    " '0305': '0305 주사료',\n",
    " '0108': '0108 검사료',\n",
    " '0316': '0316 MRI 진단료',\n",
    " '0307': '0307 처치 및 수술료',\n",
    " '0304': '0304 투약 및 조제료',\n",
    " '0312': '0312 재활 및 물리치료료',\n",
    " '0105': '0105 주사료',\n",
    " '0301': '0301 진찰료',\n",
    " '0208': '0208 검사료',\n",
    " '0309': '0309 영상진단료',\n",
    " '0201': '0201 진찰료',\n",
    " '0104': '0104 투약 및 조제료',\n",
    " '0101': '0101 진찰료',\n",
    " '0321': '0321 의료기관미징수료(원외약제)',\n",
    " '0112': '0112 재활 및 물리치료료',\n",
    " '0209': '0209 영상진단료',\n",
    " '0121': '0121 의료기관미징수료(원외약제)',\n",
    " '0120': '0120 기타',\n",
    " '0109': '0109 영상진단료',\n",
    " '0315': '0315 CT 진단료',\n",
    " '0111': '0111 치료재료대',\n",
    " '0215': '0215 CT 진단료',\n",
    " '0302': '0302 입원료',\n",
    " '0107': '0107 처치 및 수술료',\n",
    " '0306': '0306 마취료',\n",
    " '0116': '0116 MRI 진단료',\n",
    " '0118': '0118 초음파진단료',\n",
    " '0102': '0102 입원료',\n",
    " '0310': '0310 방사선치료료',\n",
    " '0207': '0207 처치 및 수술료',\n",
    " '0216': '0216 MRI 진단료',\n",
    " '0210': '0210 방사선치료료',\n",
    " '0218': '0218 초음파진단료',\n",
    " '0106': '0106 마취료',\n",
    " '0115': '0115 CT 진단료',\n",
    " '0220': '0220 기타',\n",
    " '0217': '0217 PET 진단료',\n",
    " '0303': '0303 식대',\n",
    " '0117': '0117 PET 진단료',\n",
    " '0213': '0213 정신요법료',\n",
    " '0317': '0317 PET 진단료',\n",
    " '0202': '0202 입원료',\n",
    " '0206': '0206 마취료',\n",
    " '0319': '0319 보철ㆍ교정료',\n",
    " '0313': '0313 정신요법료',\n",
    " '0110': '0110 방사선치료료',\n",
    " '0113': '0113 정신요법료',\n",
    " '0114': '0114 전혈 및 혈액성분제제료',\n",
    " '0205': '0205 주사료',\n",
    " '0314': '0314 전혈 및 혈액성분제제료',\n",
    " '0211': '0211 치료재료대',\n",
    " '0212': '0212 재활 및 물리치료료',\n",
    " '0103': '0103 식대',\n",
    " '0119': '0119 보철ㆍ교정료'}"
   ]
  },
  {
   "cell_type": "code",
   "execution_count": 144,
   "metadata": {},
   "outputs": [],
   "source": [
    "#중간에 중분류가 들어가 있기 때문에 이를 탐지해야함.\n",
    "#날짜 형식에 맞지 않으면 중분류임\n",
    "\n",
    "midSeper = \"\"\n",
    "midIndex = 0\n",
    "for index, item in enumerate(diagnosisDF['일자']):\n",
    "    if len(item.split('-')) != 3 :\n",
    "        midSeper = item\n",
    "        midIndex = index\n",
    "        \n",
    "#테이블로 읽다보니 따로따로 나뉘어지기 때문\n",
    "midSeper = \"\"\n",
    "for i in diagnosisDF.iloc[midIndex]:\n",
    "    midSeper += i\n",
    "\n",
    "#코드만으로 중분류 완성하기\n",
    "SeperCode = \"\"\n",
    "for i in midSeper :\n",
    "    if i.isdigit():\n",
    "        SeperCode += i\n",
    "midSeper = Dic[SeperCode]"
   ]
  },
  {
   "cell_type": "code",
   "execution_count": 145,
   "metadata": {},
   "outputs": [],
   "source": [
    "diagnosisDF = diagnosisDF.iloc[midIndex+1:] #중분류 뒷 부분만 가져오기. = 내용부분임"
   ]
  },
  {
   "cell_type": "code",
   "execution_count": 146,
   "metadata": {},
   "outputs": [
    {
     "name": "stderr",
     "output_type": "stream",
     "text": [
      "/Users/jubykim/opt/anaconda3/lib/python3.8/site-packages/pandas/core/frame.py:4308: SettingWithCopyWarning: \n",
      "A value is trying to be set on a copy of a slice from a DataFrame\n",
      "\n",
      "See the caveats in the documentation: https://pandas.pydata.org/pandas-docs/stable/user_guide/indexing.html#returning-a-view-versus-a-copy\n",
      "  return super().drop(\n"
     ]
    }
   ],
   "source": [
    "diagnosisDF.drop(['금액', '횟수','일수','총액','공단부담','본인부담','전액본인부담'], axis = 1, inplace = True)"
   ]
  },
  {
   "cell_type": "code",
   "execution_count": 147,
   "metadata": {},
   "outputs": [
    {
     "name": "stderr",
     "output_type": "stream",
     "text": [
      "<ipython-input-147-3f24b7c4605d>:2: SettingWithCopyWarning: \n",
      "A value is trying to be set on a copy of a slice from a DataFrame.\n",
      "Try using .loc[row_indexer,col_indexer] = value instead\n",
      "\n",
      "See the caveats in the documentation: https://pandas.pydata.org/pandas-docs/stable/user_guide/indexing.html#returning-a-view-versus-a-copy\n",
      "  diagnosisDF['진료과목'] = patientDF['진료과목'][1]\n",
      "<ipython-input-147-3f24b7c4605d>:3: SettingWithCopyWarning: \n",
      "A value is trying to be set on a copy of a slice from a DataFrame.\n",
      "Try using .loc[row_indexer,col_indexer] = value instead\n",
      "\n",
      "See the caveats in the documentation: https://pandas.pydata.org/pandas-docs/stable/user_guide/indexing.html#returning-a-view-versus-a-copy\n",
      "  diagnosisDF['보험자구분'] = patientDF['보험자구분'][1]\n"
     ]
    }
   ],
   "source": [
    "#환자정보 중 predict에 사용되는 항목 가져오기\n",
    "diagnosisDF['진료과목'] = patientDF['진료과목'][1]\n",
    "diagnosisDF['보험자구분'] = patientDF['보험자구분'][1]"
   ]
  },
  {
   "cell_type": "code",
   "execution_count": 148,
   "metadata": {},
   "outputs": [
    {
     "name": "stderr",
     "output_type": "stream",
     "text": [
      "<ipython-input-148-b41e27ed970a>:1: SettingWithCopyWarning: \n",
      "A value is trying to be set on a copy of a slice from a DataFrame.\n",
      "Try using .loc[row_indexer,col_indexer] = value instead\n",
      "\n",
      "See the caveats in the documentation: https://pandas.pydata.org/pandas-docs/stable/user_guide/indexing.html#returning-a-view-versus-a-copy\n",
      "  diagnosisDF['항코드(중분류)'] = midSeper\n"
     ]
    }
   ],
   "source": [
    "diagnosisDF['항코드(중분류)'] = midSeper"
   ]
  },
  {
   "cell_type": "code",
   "execution_count": 149,
   "metadata": {},
   "outputs": [
    {
     "data": {
      "text/html": [
       "<div>\n",
       "<style scoped>\n",
       "    .dataframe tbody tr th:only-of-type {\n",
       "        vertical-align: middle;\n",
       "    }\n",
       "\n",
       "    .dataframe tbody tr th {\n",
       "        vertical-align: top;\n",
       "    }\n",
       "\n",
       "    .dataframe thead th {\n",
       "        text-align: right;\n",
       "    }\n",
       "</style>\n",
       "<table border=\"1\" class=\"dataframe\">\n",
       "  <thead>\n",
       "    <tr style=\"text-align: right;\">\n",
       "      <th></th>\n",
       "      <th>일자</th>\n",
       "      <th>분류코드(기관)</th>\n",
       "      <th>명칭</th>\n",
       "      <th>비급여</th>\n",
       "      <th>진료과목</th>\n",
       "      <th>보험자구분</th>\n",
       "      <th>항코드(중분류)</th>\n",
       "    </tr>\n",
       "  </thead>\n",
       "  <tbody>\n",
       "    <tr>\n",
       "      <th>2</th>\n",
       "      <td>2020-11-28</td>\n",
       "      <td>645402940</td>\n",
       "      <td>모사 메드 정 5 밀리그램</td>\n",
       "      <td>285</td>\n",
       "      <td>내과</td>\n",
       "      <td>건강 보험</td>\n",
       "      <td>0104 투약 및 조제료</td>\n",
       "    </tr>\n",
       "    <tr>\n",
       "      <th>3</th>\n",
       "      <td>2020-11-28</td>\n",
       "      <td>645403580</td>\n",
       "      <td>메트 마 릴정 1/250 밀리그램</td>\n",
       "      <td>528</td>\n",
       "      <td>내과</td>\n",
       "      <td>건강 보험</td>\n",
       "      <td>0104 투약 및 조제료</td>\n",
       "    </tr>\n",
       "    <tr>\n",
       "      <th>4</th>\n",
       "      <td>2020-11-28</td>\n",
       "      <td>659900340</td>\n",
       "      <td>아큐 판 주사액 20mg ( 염산 네 포팜 )</td>\n",
       "      <td>309</td>\n",
       "      <td>내과</td>\n",
       "      <td>건강 보험</td>\n",
       "      <td>0104 투약 및 조제료</td>\n",
       "    </tr>\n",
       "    <tr>\n",
       "      <th>5</th>\n",
       "      <td>2020-11-28</td>\n",
       "      <td>621802460</td>\n",
       "      <td>비스타 치 정 50mg ( 파비스 )</td>\n",
       "      <td>336</td>\n",
       "      <td>내과</td>\n",
       "      <td>건강 보험</td>\n",
       "      <td>0104 투약 및 조제료</td>\n",
       "    </tr>\n",
       "  </tbody>\n",
       "</table>\n",
       "</div>"
      ],
      "text/plain": [
       "           일자   분류코드(기관)                         명칭  비급여 진료과목  보험자구분  \\\n",
       "2  2020-11-28  645402940             모사 메드 정 5 밀리그램  285   내과  건강 보험   \n",
       "3  2020-11-28  645403580         메트 마 릴정 1/250 밀리그램  528   내과  건강 보험   \n",
       "4  2020-11-28  659900340  아큐 판 주사액 20mg ( 염산 네 포팜 )  309   내과  건강 보험   \n",
       "5  2020-11-28  621802460       비스타 치 정 50mg ( 파비스 )  336   내과  건강 보험   \n",
       "\n",
       "        항코드(중분류)  \n",
       "2  0104 투약 및 조제료  \n",
       "3  0104 투약 및 조제료  \n",
       "4  0104 투약 및 조제료  \n",
       "5  0104 투약 및 조제료  "
      ]
     },
     "execution_count": 149,
     "metadata": {},
     "output_type": "execute_result"
    }
   ],
   "source": [
    "#진료비 세부내역서를 읽은 최종 DF\n",
    "diagnosisDF"
   ]
  },
  {
   "cell_type": "code",
   "execution_count": 150,
   "metadata": {},
   "outputs": [],
   "source": [
    "#그 중에서도 비급여 내역만을 추출 = 비급여 지출내역이 있는 항목만.\n",
    "non_benefit_DF = diagnosisDF[diagnosisDF['비급여'] != ''] #비급여내역만을 추출"
   ]
  },
  {
   "cell_type": "code",
   "execution_count": 151,
   "metadata": {},
   "outputs": [],
   "source": [
    "non_benefit_DF.drop('비급여', axis = 1, inplace = True)\n",
    "non_benefit_DF.reset_index(inplace = True)\n",
    "non_benefit_DF.drop('index', axis = 1, inplace = True)"
   ]
  },
  {
   "cell_type": "code",
   "execution_count": 152,
   "metadata": {},
   "outputs": [],
   "source": [
    "#학습을 위한 column 생성\n",
    "\n",
    "#1. 성별\n",
    "if int(birthday[:-1]) % 2 == 0:\n",
    "    sex = 0\n",
    "else : sex = 1\n",
    "    \n",
    "non_benefit_DF['환자성별'] = sex"
   ]
  },
  {
   "cell_type": "code",
   "execution_count": 153,
   "metadata": {},
   "outputs": [],
   "source": [
    "#주민번호 뒷자리 첫 번째 숫자를 통해 몇 세기에 태어났는지 판별\n",
    "if birthday[-1] == '2' or '1':\n",
    "    fullBirthday = '19' + birthday\n",
    "elif birthday[-1] == '3' or '4':\n",
    "    fullBirthday = '20' + birthday\n",
    "elif birthday[-1] == '5' or '6':\n",
    "    fullBirthday = '19' + birthday\n",
    "elif birthday[-1] == '7' or '8':\n",
    "    fullBirthday = '20' + birthday\n",
    "elif birthday[-1] == '9' or '':\n",
    "    fullBirthday = '18' + birthday\n",
    "\n",
    "non_benefit_DF['환자생년월일'] = fullBirthday\n",
    "\n",
    "birthY = fullBirthday[:4]\n",
    "birthM = fullBirthday[4:6]\n",
    "birthD = fullBirthday[7:]"
   ]
  },
  {
   "cell_type": "code",
   "execution_count": 154,
   "metadata": {},
   "outputs": [],
   "source": [
    "# 환자가 진료를 받았을 당시의 만 나이 구하기\n",
    "diaY, diaM, diaD = non_benefit_DF['일자'][0].split('-')\n",
    "\n",
    "diaY, diaM, diaD = int(diaY),int(diaM),int(diaD)\n",
    "birthY, birthM, birthD = int(birthY),int(birthM),int(birthD)\n",
    "\n",
    "if diaM > birthM :\n",
    "    year = diaY - birthY\n",
    "elif diaM < birthM :\n",
    "    year = diaY-birthY -1\n",
    "else :\n",
    "    if diaD >= birthD :\n",
    "        year = diaY - birthY\n",
    "    else : \n",
    "        year = diaY - birthY -1\n",
    "        \n",
    "non_benefit_DF['환자 만 나이'] = year\n",
    "non_benefit_DF.drop('환자생년월일', axis = 1, inplace = True)\n",
    "non_benefit_DF.drop('일자', axis = 1, inplace = True)"
   ]
  },
  {
   "cell_type": "code",
   "execution_count": 155,
   "metadata": {},
   "outputs": [],
   "source": [
    "#연도 + 반기 column만들기\n",
    "half = 0\n",
    "if diaM < 7 :\n",
    "    half = 1\n",
    "else :\n",
    "    half = 2\n",
    "yearHalf = str(diaY) + str(half)\n",
    "\n",
    "non_benefit_DF['연도 + 반기'] = yearHalf"
   ]
  },
  {
   "cell_type": "code",
   "execution_count": 156,
   "metadata": {},
   "outputs": [],
   "source": [
    "non_benefit_DF['상병기호'] = diseaseCode"
   ]
  },
  {
   "cell_type": "code",
   "execution_count": 157,
   "metadata": {},
   "outputs": [],
   "source": [
    "# diagnosisDF['구분'] \n",
    "\n",
    "if emergency :\n",
    "    non_benefit_DF['구분'] = '긴급의료지원비확인'\n",
    "else :\n",
    "    non_benefit_DF['구분'] = '요양급여대상여부 확인'"
   ]
  },
  {
   "cell_type": "code",
   "execution_count": 158,
   "metadata": {},
   "outputs": [
    {
     "data": {
      "text/html": [
       "<div>\n",
       "<style scoped>\n",
       "    .dataframe tbody tr th:only-of-type {\n",
       "        vertical-align: middle;\n",
       "    }\n",
       "\n",
       "    .dataframe tbody tr th {\n",
       "        vertical-align: top;\n",
       "    }\n",
       "\n",
       "    .dataframe thead th {\n",
       "        text-align: right;\n",
       "    }\n",
       "</style>\n",
       "<table border=\"1\" class=\"dataframe\">\n",
       "  <thead>\n",
       "    <tr style=\"text-align: right;\">\n",
       "      <th></th>\n",
       "      <th>분류코드(기관)</th>\n",
       "      <th>명칭</th>\n",
       "      <th>진료과목</th>\n",
       "      <th>보험자구분</th>\n",
       "      <th>항코드(중분류)</th>\n",
       "      <th>환자성별</th>\n",
       "      <th>환자 만 나이</th>\n",
       "      <th>연도 + 반기</th>\n",
       "      <th>상병기호</th>\n",
       "      <th>구분</th>\n",
       "    </tr>\n",
       "  </thead>\n",
       "  <tbody>\n",
       "    <tr>\n",
       "      <th>0</th>\n",
       "      <td>645402940</td>\n",
       "      <td>모사 메드 정 5 밀리그램</td>\n",
       "      <td>내과</td>\n",
       "      <td>건강 보험</td>\n",
       "      <td>0104 투약 및 조제료</td>\n",
       "      <td>0</td>\n",
       "      <td>22</td>\n",
       "      <td>20202</td>\n",
       "      <td>I499</td>\n",
       "      <td>요양급여대상여부 확인</td>\n",
       "    </tr>\n",
       "    <tr>\n",
       "      <th>1</th>\n",
       "      <td>645403580</td>\n",
       "      <td>메트 마 릴정 1/250 밀리그램</td>\n",
       "      <td>내과</td>\n",
       "      <td>건강 보험</td>\n",
       "      <td>0104 투약 및 조제료</td>\n",
       "      <td>0</td>\n",
       "      <td>22</td>\n",
       "      <td>20202</td>\n",
       "      <td>I499</td>\n",
       "      <td>요양급여대상여부 확인</td>\n",
       "    </tr>\n",
       "    <tr>\n",
       "      <th>2</th>\n",
       "      <td>659900340</td>\n",
       "      <td>아큐 판 주사액 20mg ( 염산 네 포팜 )</td>\n",
       "      <td>내과</td>\n",
       "      <td>건강 보험</td>\n",
       "      <td>0104 투약 및 조제료</td>\n",
       "      <td>0</td>\n",
       "      <td>22</td>\n",
       "      <td>20202</td>\n",
       "      <td>I499</td>\n",
       "      <td>요양급여대상여부 확인</td>\n",
       "    </tr>\n",
       "    <tr>\n",
       "      <th>3</th>\n",
       "      <td>621802460</td>\n",
       "      <td>비스타 치 정 50mg ( 파비스 )</td>\n",
       "      <td>내과</td>\n",
       "      <td>건강 보험</td>\n",
       "      <td>0104 투약 및 조제료</td>\n",
       "      <td>0</td>\n",
       "      <td>22</td>\n",
       "      <td>20202</td>\n",
       "      <td>I499</td>\n",
       "      <td>요양급여대상여부 확인</td>\n",
       "    </tr>\n",
       "  </tbody>\n",
       "</table>\n",
       "</div>"
      ],
      "text/plain": [
       "    분류코드(기관)                         명칭 진료과목  보험자구분       항코드(중분류)  환자성별  \\\n",
       "0  645402940             모사 메드 정 5 밀리그램   내과  건강 보험  0104 투약 및 조제료     0   \n",
       "1  645403580         메트 마 릴정 1/250 밀리그램   내과  건강 보험  0104 투약 및 조제료     0   \n",
       "2  659900340  아큐 판 주사액 20mg ( 염산 네 포팜 )   내과  건강 보험  0104 투약 및 조제료     0   \n",
       "3  621802460       비스타 치 정 50mg ( 파비스 )   내과  건강 보험  0104 투약 및 조제료     0   \n",
       "\n",
       "   환자 만 나이 연도 + 반기  상병기호           구분  \n",
       "0       22   20202  I499  요양급여대상여부 확인  \n",
       "1       22   20202  I499  요양급여대상여부 확인  \n",
       "2       22   20202  I499  요양급여대상여부 확인  \n",
       "3       22   20202  I499  요양급여대상여부 확인  "
      ]
     },
     "execution_count": 158,
     "metadata": {},
     "output_type": "execute_result"
    }
   ],
   "source": [
    "non_benefit_DF"
   ]
  },
  {
   "cell_type": "markdown",
   "metadata": {},
   "source": [
    "# ISSUE1 : 의원의 정보는 NanoNets에서 읽어오지 못함"
   ]
  },
  {
   "cell_type": "markdown",
   "metadata": {},
   "source": [
    "### 아이디어 : \n",
    "환자정보가 들어있는 table이 제일 처음 나오는 것과, 환자등록번호 column의 크기는 늘 동일하므로, 해당 셀을 기준으로 의원정보가 담겨있는 셀을 가져오자"
   ]
  },
  {
   "cell_type": "code",
   "execution_count": 159,
   "metadata": {},
   "outputs": [
    {
     "name": "stdout",
     "output_type": "stream",
     "text": [
      "Requirement already satisfied: openCV-python in /Users/jubykim/opt/anaconda3/lib/python3.8/site-packages (4.5.3.56)\n",
      "Requirement already satisfied: numpy>=1.17.3 in /Users/jubykim/opt/anaconda3/lib/python3.8/site-packages (from openCV-python) (1.20.1)\n",
      "Note: you may need to restart the kernel to use updated packages.\n"
     ]
    }
   ],
   "source": [
    "pip install openCV-python"
   ]
  },
  {
   "cell_type": "code",
   "execution_count": 160,
   "metadata": {},
   "outputs": [],
   "source": [
    "#잘 읽어올 수 있도록 openCV를 통해 ersion,morphologyEx, dilate 등의 과정을 거친다\n",
    "\n",
    "import cv2\n",
    "import numpy as np\n",
    "def detect_box(image,line_min_width=1):\n",
    "    gray_scale=cv2.cvtColor(image,cv2.COLOR_BGR2GRAY)\n",
    "    th1,img_bin = cv2.threshold(gray_scale,150,225,cv2.THRESH_BINARY)\n",
    "    kernal6h = np.ones((1,line_min_width), np.uint8)\n",
    "    kernal6v = np.ones((line_min_width,1), np.uint8)\n",
    "    img_bin_h = cv2.morphologyEx(~img_bin, cv2.MORPH_OPEN, kernal6h)\n",
    "    img_bin_v = cv2.morphologyEx(~img_bin, cv2.MORPH_OPEN, kernal6v)\n",
    "    img_bin_final=img_bin_h|img_bin_v\n",
    "    final_kernel = np.ones((3,3), np.uint8)\n",
    "    img_bin_final=cv2.dilate(img_bin_final,final_kernel,iterations=1)\n",
    "    ret, labels, stats,centroids = cv2.connectedComponentsWithStats(~img_bin_final, connectivity=8, ltype=cv2.CV_32S)\n",
    "    return stats,labels"
   ]
  },
  {
   "cell_type": "code",
   "execution_count": 161,
   "metadata": {},
   "outputs": [],
   "source": [
    "from PIL import Image"
   ]
  },
  {
   "cell_type": "code",
   "execution_count": 162,
   "metadata": {},
   "outputs": [],
   "source": [
    "import cv2\n",
    "\n",
    "image_path = \"docImage.jpg\"\n",
    "image=cv2.imread(image_path)\n",
    "stats,labels=detect_box(image)\n",
    "\n",
    "xList = []\n",
    "yList = []\n",
    "wList = []\n",
    "hList = []\n",
    "areaList = []\n",
    "\n",
    "for x,y,w,h,area in stats:\n",
    "    xList.append(x)\n",
    "    yList.append(y)\n",
    "    wList.append(w)\n",
    "    hList.append(h)\n",
    "    areaList.append(area)"
   ]
  },
  {
   "cell_type": "code",
   "execution_count": 163,
   "metadata": {},
   "outputs": [],
   "source": [
    "#환자 등록번호 cell의 칼럼 area는 고정이므로 해당 셀을 기준으로 요양기호셀을 찾고자 함.\n",
    "#환자관련 table은 늘 첫 테이블의 첫번째 셀이므로 알고리즘에 따라 index가 2일 때 환자등록번호라는 셀이 나옴.\n",
    "# 0번째는 사진전체, 1번째는 세부내역서 내용이 있는 부분만, 2번째는 첫 번째 셀\n",
    "x = xList[12]\n",
    "y = yList[12]\n",
    "h = hList[12]\n",
    "w = wList[12]\n",
    "pkArea = areaList[12]\n",
    "crop_img = image[y:y+h, x:x+w]\n",
    "\n",
    "#환자등록번호 cell의 칼럼.\n",
    "cv2.imwrite('patientPK.jpg',crop_img)\n",
    "pk=cv2.imread('patientPK.jpg')"
   ]
  },
  {
   "cell_type": "code",
   "execution_count": 164,
   "metadata": {},
   "outputs": [],
   "source": [
    "# testImage 기준, 요양기호정보cell대비 환자등록번호 cell의 크기는 0.42었음.\n",
    "# 사용자가 사진을 찍는 방향이나 각도에 따라 달라질 수 있으니 적당한 범위를 정해준다.\n",
    "for index , item in enumerate(areaList):\n",
    "    if 0.3 < pkArea / item < 0.55:\n",
    "        x = xList[index]\n",
    "        y = yList[index]\n",
    "        h = hList[index]\n",
    "        w = wList[index]\n",
    "\n",
    "crop_img = image[y:y+h, x:x+w]\n",
    "\n",
    "#요양정보 cell의 칼럼.\n",
    "cv2.imwrite('hospCode.jpg',crop_img)\n",
    "hospCode=cv2.imread('hospCode.jpg')"
   ]
  },
  {
   "cell_type": "markdown",
   "metadata": {},
   "source": [
    "# ISSUE2 : 글씨에 비해 배경이 너무 많을 경우 잘 인식하지 못하므로 글씨있는 부분만 crop"
   ]
  },
  {
   "cell_type": "code",
   "execution_count": 165,
   "metadata": {},
   "outputs": [],
   "source": [
    "from PIL import Image, ImageChops\n",
    " \n",
    "def crop(im):\n",
    "    background = Image.new(im.mode, im.size, im.getpixel((0, 0)))\n",
    "    diff = ImageChops.difference(im, background)\n",
    "    diff = ImageChops.add(diff, diff, 2.0, -35)\n",
    "    bbox = diff.getbbox()\n",
    "    if bbox:\n",
    "        cropped_image = im.crop(bbox)\n",
    "        return cropped_image\n",
    "    else:\n",
    "        print('Failure!')\n",
    "        return"
   ]
  },
  {
   "cell_type": "code",
   "execution_count": 166,
   "metadata": {},
   "outputs": [],
   "source": [
    "an_image = Image.open('hospCode.jpg')\n",
    "image_sequence = an_image.getdata()\n",
    "image_array = np.array(image_sequence)"
   ]
  },
  {
   "cell_type": "code",
   "execution_count": 167,
   "metadata": {},
   "outputs": [],
   "source": [
    "#글자가 있는 부분만 crop\n",
    "croppedImage = crop(an_image)"
   ]
  },
  {
   "cell_type": "code",
   "execution_count": 168,
   "metadata": {},
   "outputs": [],
   "source": [
    "#invalid argument는 PIL상의 bug이고, 다시 한 번 실행 시 제대로 동작합니다. 다시 한번 실행해주세요.\n",
    "croppedImage.save('croppedImage.jpg')"
   ]
  },
  {
   "cell_type": "code",
   "execution_count": 169,
   "metadata": {},
   "outputs": [
    {
     "name": "stdout",
     "output_type": "stream",
     "text": [
      "Requirement already satisfied: google-cloud-vision in /Users/jubykim/opt/anaconda3/lib/python3.8/site-packages (2.4.2)\n",
      "Requirement already satisfied: proto-plus>=1.15.0 in /Users/jubykim/opt/anaconda3/lib/python3.8/site-packages (from google-cloud-vision) (1.19.0)\n",
      "Requirement already satisfied: google-api-core[grpc]<3.0.0dev,>=1.26.0 in /Users/jubykim/opt/anaconda3/lib/python3.8/site-packages (from google-cloud-vision) (2.0.1)\n",
      "Requirement already satisfied: packaging>=14.3 in /Users/jubykim/opt/anaconda3/lib/python3.8/site-packages (from google-cloud-vision) (20.9)\n",
      "Requirement already satisfied: setuptools>=40.3.0 in /Users/jubykim/opt/anaconda3/lib/python3.8/site-packages (from google-api-core[grpc]<3.0.0dev,>=1.26.0->google-cloud-vision) (41.0.1)\n",
      "Requirement already satisfied: google-auth<3.0dev,>=1.25.0 in /Users/jubykim/opt/anaconda3/lib/python3.8/site-packages (from google-api-core[grpc]<3.0.0dev,>=1.26.0->google-cloud-vision) (2.0.2)\n",
      "Requirement already satisfied: protobuf>=3.12.0 in /Users/jubykim/opt/anaconda3/lib/python3.8/site-packages (from google-api-core[grpc]<3.0.0dev,>=1.26.0->google-cloud-vision) (3.17.3)\n",
      "Requirement already satisfied: requests<3.0.0dev,>=2.18.0 in /Users/jubykim/opt/anaconda3/lib/python3.8/site-packages (from google-api-core[grpc]<3.0.0dev,>=1.26.0->google-cloud-vision) (2.22.0)\n",
      "Requirement already satisfied: googleapis-common-protos<2.0dev,>=1.6.0 in /Users/jubykim/opt/anaconda3/lib/python3.8/site-packages (from google-api-core[grpc]<3.0.0dev,>=1.26.0->google-cloud-vision) (1.53.0)\n",
      "Requirement already satisfied: grpcio<2.0dev,>=1.33.2 in /Users/jubykim/opt/anaconda3/lib/python3.8/site-packages (from google-api-core[grpc]<3.0.0dev,>=1.26.0->google-cloud-vision) (1.39.0)\n",
      "Requirement already satisfied: cachetools<5.0,>=2.0.0 in /Users/jubykim/opt/anaconda3/lib/python3.8/site-packages (from google-auth<3.0dev,>=1.25.0->google-api-core[grpc]<3.0.0dev,>=1.26.0->google-cloud-vision) (4.2.2)\n",
      "Requirement already satisfied: rsa<5,>=3.1.4 in /Users/jubykim/opt/anaconda3/lib/python3.8/site-packages (from google-auth<3.0dev,>=1.25.0->google-api-core[grpc]<3.0.0dev,>=1.26.0->google-cloud-vision) (4.7.2)\n",
      "Requirement already satisfied: pyasn1-modules>=0.2.1 in /Users/jubykim/opt/anaconda3/lib/python3.8/site-packages (from google-auth<3.0dev,>=1.25.0->google-api-core[grpc]<3.0.0dev,>=1.26.0->google-cloud-vision) (0.2.8)\n",
      "Requirement already satisfied: six>=1.5.2 in /Users/jubykim/opt/anaconda3/lib/python3.8/site-packages (from grpcio<2.0dev,>=1.33.2->google-api-core[grpc]<3.0.0dev,>=1.26.0->google-cloud-vision) (1.15.0)\n",
      "Requirement already satisfied: pyparsing>=2.0.2 in /Users/jubykim/opt/anaconda3/lib/python3.8/site-packages (from packaging>=14.3->google-cloud-vision) (2.4.7)\n",
      "Requirement already satisfied: pyasn1<0.5.0,>=0.4.6 in /Users/jubykim/opt/anaconda3/lib/python3.8/site-packages (from pyasn1-modules>=0.2.1->google-auth<3.0dev,>=1.25.0->google-api-core[grpc]<3.0.0dev,>=1.26.0->google-cloud-vision) (0.4.8)\n",
      "Requirement already satisfied: urllib3!=1.25.0,!=1.25.1,<1.26,>=1.21.1 in /Users/jubykim/opt/anaconda3/lib/python3.8/site-packages (from requests<3.0.0dev,>=2.18.0->google-api-core[grpc]<3.0.0dev,>=1.26.0->google-cloud-vision) (1.25.11)\n",
      "Requirement already satisfied: idna<2.9,>=2.5 in /Users/jubykim/opt/anaconda3/lib/python3.8/site-packages (from requests<3.0.0dev,>=2.18.0->google-api-core[grpc]<3.0.0dev,>=1.26.0->google-cloud-vision) (2.8)\n",
      "Requirement already satisfied: certifi>=2017.4.17 in /Users/jubykim/opt/anaconda3/lib/python3.8/site-packages (from requests<3.0.0dev,>=2.18.0->google-api-core[grpc]<3.0.0dev,>=1.26.0->google-cloud-vision) (2020.12.5)\n",
      "Requirement already satisfied: chardet<3.1.0,>=3.0.2 in /Users/jubykim/opt/anaconda3/lib/python3.8/site-packages (from requests<3.0.0dev,>=2.18.0->google-api-core[grpc]<3.0.0dev,>=1.26.0->google-cloud-vision) (3.0.4)\n",
      "Note: you may need to restart the kernel to use updated packages.\n"
     ]
    }
   ],
   "source": [
    "pip install google-cloud-vision"
   ]
  },
  {
   "cell_type": "code",
   "execution_count": 170,
   "metadata": {},
   "outputs": [],
   "source": [
    "#이미지 내에서 글씨를 detection하기.\n",
    "def detect_text(path):\n",
    "    \"\"\"Detects text in the file.\"\"\"\n",
    "    from google.cloud import vision\n",
    "    import io\n",
    "    import os\n",
    "    os.environ[\"GOOGLE_APPLICATION_CREDENTIALS\"]=r\"meari-322801-754104bf5e4a.json\"\n",
    "    client = vision.ImageAnnotatorClient()\n",
    "    textList = []\n",
    "    with io.open(path, 'rb') as image_file:\n",
    "        content = image_file.read()\n",
    "\n",
    "    image = vision.Image(content=content)\n",
    "    response = client.text_detection(image=image)\n",
    "    texts = response.text_annotations\n",
    "\n",
    "    for text in texts:\n",
    "        textList.append('\\n\"{}\"'.format(text.description))\n",
    "        \n",
    "    if response.error.message:\n",
    "        raise Exception(\n",
    "            '{}\\nFor more info on error messages, check: '\n",
    "            'https://cloud.google.com/apis/design/errors'.format(\n",
    "                response.error.message))\n",
    "    return textList"
   ]
  },
  {
   "cell_type": "code",
   "execution_count": 171,
   "metadata": {},
   "outputs": [
    {
     "data": {
      "text/plain": [
       "'21100390'"
      ]
     },
     "execution_count": 171,
     "metadata": {},
     "output_type": "execute_result"
    }
   ],
   "source": [
    "hospNum = \"\"\n",
    "for i in detect_text('croppedImage.jpg')[0]:\n",
    "    if i.isdigit():\n",
    "        hospNum += i\n",
    "hospNum"
   ]
  },
  {
   "cell_type": "code",
   "execution_count": 172,
   "metadata": {},
   "outputs": [],
   "source": [
    "non_benefit_DF['요양기호'] = hospNum"
   ]
  },
  {
   "cell_type": "code",
   "execution_count": 173,
   "metadata": {},
   "outputs": [
    {
     "data": {
      "text/html": [
       "<div>\n",
       "<style scoped>\n",
       "    .dataframe tbody tr th:only-of-type {\n",
       "        vertical-align: middle;\n",
       "    }\n",
       "\n",
       "    .dataframe tbody tr th {\n",
       "        vertical-align: top;\n",
       "    }\n",
       "\n",
       "    .dataframe thead th {\n",
       "        text-align: right;\n",
       "    }\n",
       "</style>\n",
       "<table border=\"1\" class=\"dataframe\">\n",
       "  <thead>\n",
       "    <tr style=\"text-align: right;\">\n",
       "      <th></th>\n",
       "      <th>분류코드(기관)</th>\n",
       "      <th>명칭</th>\n",
       "      <th>진료과목</th>\n",
       "      <th>보험자구분</th>\n",
       "      <th>항코드(중분류)</th>\n",
       "      <th>환자성별</th>\n",
       "      <th>환자 만 나이</th>\n",
       "      <th>연도 + 반기</th>\n",
       "      <th>상병기호</th>\n",
       "      <th>구분</th>\n",
       "      <th>요양기호</th>\n",
       "    </tr>\n",
       "  </thead>\n",
       "  <tbody>\n",
       "    <tr>\n",
       "      <th>0</th>\n",
       "      <td>645402940</td>\n",
       "      <td>모사 메드 정 5 밀리그램</td>\n",
       "      <td>내과</td>\n",
       "      <td>건강 보험</td>\n",
       "      <td>0104 투약 및 조제료</td>\n",
       "      <td>0</td>\n",
       "      <td>22</td>\n",
       "      <td>20202</td>\n",
       "      <td>I499</td>\n",
       "      <td>요양급여대상여부 확인</td>\n",
       "      <td>21100390</td>\n",
       "    </tr>\n",
       "    <tr>\n",
       "      <th>1</th>\n",
       "      <td>645403580</td>\n",
       "      <td>메트 마 릴정 1/250 밀리그램</td>\n",
       "      <td>내과</td>\n",
       "      <td>건강 보험</td>\n",
       "      <td>0104 투약 및 조제료</td>\n",
       "      <td>0</td>\n",
       "      <td>22</td>\n",
       "      <td>20202</td>\n",
       "      <td>I499</td>\n",
       "      <td>요양급여대상여부 확인</td>\n",
       "      <td>21100390</td>\n",
       "    </tr>\n",
       "    <tr>\n",
       "      <th>2</th>\n",
       "      <td>659900340</td>\n",
       "      <td>아큐 판 주사액 20mg ( 염산 네 포팜 )</td>\n",
       "      <td>내과</td>\n",
       "      <td>건강 보험</td>\n",
       "      <td>0104 투약 및 조제료</td>\n",
       "      <td>0</td>\n",
       "      <td>22</td>\n",
       "      <td>20202</td>\n",
       "      <td>I499</td>\n",
       "      <td>요양급여대상여부 확인</td>\n",
       "      <td>21100390</td>\n",
       "    </tr>\n",
       "    <tr>\n",
       "      <th>3</th>\n",
       "      <td>621802460</td>\n",
       "      <td>비스타 치 정 50mg ( 파비스 )</td>\n",
       "      <td>내과</td>\n",
       "      <td>건강 보험</td>\n",
       "      <td>0104 투약 및 조제료</td>\n",
       "      <td>0</td>\n",
       "      <td>22</td>\n",
       "      <td>20202</td>\n",
       "      <td>I499</td>\n",
       "      <td>요양급여대상여부 확인</td>\n",
       "      <td>21100390</td>\n",
       "    </tr>\n",
       "  </tbody>\n",
       "</table>\n",
       "</div>"
      ],
      "text/plain": [
       "    분류코드(기관)                         명칭 진료과목  보험자구분       항코드(중분류)  환자성별  \\\n",
       "0  645402940             모사 메드 정 5 밀리그램   내과  건강 보험  0104 투약 및 조제료     0   \n",
       "1  645403580         메트 마 릴정 1/250 밀리그램   내과  건강 보험  0104 투약 및 조제료     0   \n",
       "2  659900340  아큐 판 주사액 20mg ( 염산 네 포팜 )   내과  건강 보험  0104 투약 및 조제료     0   \n",
       "3  621802460       비스타 치 정 50mg ( 파비스 )   내과  건강 보험  0104 투약 및 조제료     0   \n",
       "\n",
       "   환자 만 나이 연도 + 반기  상병기호           구분      요양기호  \n",
       "0       22   20202  I499  요양급여대상여부 확인  21100390  \n",
       "1       22   20202  I499  요양급여대상여부 확인  21100390  \n",
       "2       22   20202  I499  요양급여대상여부 확인  21100390  \n",
       "3       22   20202  I499  요양급여대상여부 확인  21100390  "
      ]
     },
     "execution_count": 173,
     "metadata": {},
     "output_type": "execute_result"
    }
   ],
   "source": [
    "non_benefit_DF"
   ]
  },
  {
   "cell_type": "code",
   "execution_count": 174,
   "metadata": {},
   "outputs": [],
   "source": [
    "forDic = [] #사전에 돌려볼 명칭 리스트\n",
    "for i in non_benefit_DF['명칭']:\n",
    "    forDic.append(i.replace(\" \", \"\"))\n",
    "non_benefit_DF = non_benefit_DF.drop('명칭', axis = 1)"
   ]
  },
  {
   "cell_type": "code",
   "execution_count": 175,
   "metadata": {},
   "outputs": [],
   "source": [
    "forMLDF = []\n",
    "for row in range(len(non_benefit_DF.index)) :\n",
    "    forMLDF.append(non_benefit_DF.iloc[row])"
   ]
  },
  {
   "cell_type": "code",
   "execution_count": 176,
   "metadata": {},
   "outputs": [
    {
     "data": {
      "text/plain": [
       "[분류코드(기관)        645402940\n",
       " 진료과목                   내과\n",
       " 보험자구분               건강 보험\n",
       " 항코드(중분류)    0104 투약 및 조제료\n",
       " 환자성별                    0\n",
       " 환자 만 나이                22\n",
       " 연도 + 반기             20202\n",
       " 상병기호                 I499\n",
       " 구분            요양급여대상여부 확인\n",
       " 요양기호             21100390\n",
       " Name: 0, dtype: object,\n",
       " 분류코드(기관)        645403580\n",
       " 진료과목                   내과\n",
       " 보험자구분               건강 보험\n",
       " 항코드(중분류)    0104 투약 및 조제료\n",
       " 환자성별                    0\n",
       " 환자 만 나이                22\n",
       " 연도 + 반기             20202\n",
       " 상병기호                 I499\n",
       " 구분            요양급여대상여부 확인\n",
       " 요양기호             21100390\n",
       " Name: 1, dtype: object,\n",
       " 분류코드(기관)        659900340\n",
       " 진료과목                   내과\n",
       " 보험자구분               건강 보험\n",
       " 항코드(중분류)    0104 투약 및 조제료\n",
       " 환자성별                    0\n",
       " 환자 만 나이                22\n",
       " 연도 + 반기             20202\n",
       " 상병기호                 I499\n",
       " 구분            요양급여대상여부 확인\n",
       " 요양기호             21100390\n",
       " Name: 2, dtype: object,\n",
       " 분류코드(기관)        621802460\n",
       " 진료과목                   내과\n",
       " 보험자구분               건강 보험\n",
       " 항코드(중분류)    0104 투약 및 조제료\n",
       " 환자성별                    0\n",
       " 환자 만 나이                22\n",
       " 연도 + 반기             20202\n",
       " 상병기호                 I499\n",
       " 구분            요양급여대상여부 확인\n",
       " 요양기호             21100390\n",
       " Name: 3, dtype: object]"
      ]
     },
     "execution_count": 176,
     "metadata": {},
     "output_type": "execute_result"
    }
   ],
   "source": [
    "forMLDF #머신러닝할 때 쓸 DF List, 한줄씩출력임."
   ]
  },
  {
   "cell_type": "code",
   "execution_count": 177,
   "metadata": {},
   "outputs": [
    {
     "data": {
      "text/plain": [
       "['모사메드정5밀리그램', '메트마릴정1/250밀리그램', '아큐판주사액20mg(염산네포팜)', '비스타치정50mg(파비스)']"
      ]
     },
     "execution_count": 177,
     "metadata": {},
     "output_type": "execute_result"
    }
   ],
   "source": [
    "forDic"
   ]
  },
  {
   "cell_type": "markdown",
   "metadata": {},
   "source": [
    "# NLP"
   ]
  },
  {
   "cell_type": "code",
   "execution_count": 178,
   "metadata": {},
   "outputs": [
    {
     "name": "stdout",
     "output_type": "stream",
     "text": [
      "Requirement already satisfied: JPype1 in /Users/jubykim/opt/anaconda3/lib/python3.8/site-packages (1.3.0)\n",
      "Note: you may need to restart the kernel to use updated packages.\n"
     ]
    }
   ],
   "source": [
    "pip install JPype1"
   ]
  },
  {
   "cell_type": "code",
   "execution_count": 179,
   "metadata": {},
   "outputs": [
    {
     "name": "stdout",
     "output_type": "stream",
     "text": [
      "Requirement already satisfied: rhinoMorph in /Users/jubykim/opt/anaconda3/lib/python3.8/site-packages (3.8.0.0)\n",
      "Note: you may need to restart the kernel to use updated packages.\n"
     ]
    }
   ],
   "source": [
    "pip install rhinoMorph"
   ]
  },
  {
   "cell_type": "code",
   "execution_count": 180,
   "metadata": {},
   "outputs": [],
   "source": [
    "import pandas as pd\n",
    "import numpy as np\n",
    "import re\n",
    "import rhinoMorph"
   ]
  },
  {
   "cell_type": "markdown",
   "metadata": {},
   "source": [
    "# Text proprecessing\n",
    "- input 명칭에 대한 텍스트전처리"
   ]
  },
  {
   "cell_type": "code",
   "execution_count": 181,
   "metadata": {},
   "outputs": [],
   "source": [
    "def input_proprecessing(data): # 텍스트전처리에 대한 함수\n",
    "    dic = []\n",
    "    for i in data:  # 특수기호 제거\n",
    "        text = re.sub('[-_=+,/\\?:^.*·''\"\"(\\)[\\]<\\>「\\」|`~!%βⅡ°\\ © ® ° α β γ δ ε ζ η θ ι κ λ μ π ο φ χ ψ ω Ф Э ф • ⁿ ‥ … € Ⅰ Ⅱ Ⅲ Ⅳ Ⅴ Ⅵ ⅦⅧ ™ Ω ⅓ ⅔ ℃ ℓ → ← ∙ ① ② ③ ④ ⑤ ⑥ ⑦ ⑧ ⑨ ⑩ ■ □ ▲ △ ▶ ◆◇ ◈ ◎ ○ ● ◐ ◑ ★ ☆ ♠ ♡ ♣ ♤ ♥ 〮 ㎀ ㎁ ㎂ ㎃ ㎄ ㎈ ㎉ ㎊ ㎋ ㎌ ㎍㎎ ㎕ ㎖ ㎗ ㎘ ㎚ ㎛ ㎜ ㎝ ㎞ ㎟ ㎠ ㎡ ㎢ ㎣ ㎤ ㎥ ㎦ ㎧ ㎼ ㎽ ㎾ ￠ ￡ ～ ︒ ︓ ⅓™αμΦ×,Ⅲ∥Ⅰ~ⅣΙ®ⅤⅥⅦ㎛*Øⓜ＊ㆍ?◈°ⅠⅡⅢⅣΙΙβ]', ' ', i)\n",
    "        dic.append(text) # 특수기호 제거한 것들을 dic 리스트에 추가\n",
    "    rn = rhinoMorph.startRhino()  # 형태소분석기 객체 생성\n",
    "    dic_list = []\n",
    "    for data_each in dic:  # 전체 데이터 Tokenizer\n",
    "        morphed_data_each = rhinoMorph.onlyMorph_list(rn, data_each, pos =['NNG', 'NNP','SL'], eomi = True)  # 명칭이므로 일반명사, 고유명사, 영어태그만 사용\n",
    "        dic_list.append(morphed_data_each)  # 형태소 분석한 값들을 추가\n",
    "    f_list = []\n",
    "    for i in dic_list:    # 중복값 제거 -> 차후 점수합산에 방해요인\n",
    "        set_list = set(i)\n",
    "        final_list = list(set_list)  \n",
    "        f_list.append(final_list)\n",
    "    return f_list"
   ]
  },
  {
   "cell_type": "code",
   "execution_count": 182,
   "metadata": {},
   "outputs": [
    {
     "name": "stdout",
     "output_type": "stream",
     "text": [
      "filepath:  /Users/jubykim/opt/anaconda3/lib/python3.8/site-packages\n",
      "classpath:  /Users/jubykim/opt/anaconda3/lib/python3.8/site-packages/rhinoMorph/lib/rhino.jar\n",
      "JVM is already started~\n",
      "RHINO started!\n"
     ]
    },
    {
     "data": {
      "text/plain": [
       "[['메드', '모사', '밀리그램', '정'], [], ['염산', 'mg'], ['mg']]"
      ]
     },
     "execution_count": 182,
     "metadata": {},
     "output_type": "execute_result"
    }
   ],
   "source": [
    "result = input_proprecessing(forDic)\n",
    "result"
   ]
  },
  {
   "cell_type": "markdown",
   "metadata": {},
   "source": [
    "# USE DICTIONARY\n",
    "- 사전을 불러와 급여 비급여에 대한 점수를 가산"
   ]
  },
  {
   "cell_type": "code",
   "execution_count": 183,
   "metadata": {},
   "outputs": [],
   "source": [
    "def read_data(filename, encoding = 'UTF-8'):   # 사전 읽기 함수\n",
    "    with open(filename, 'r', encoding = encoding) as f:  \n",
    "        data = [line.split('\\t') for line in f.read().splitlines()] \n",
    "        data = data[0]       \n",
    "    return data   "
   ]
  },
  {
   "cell_type": "code",
   "execution_count": 184,
   "metadata": {},
   "outputs": [],
   "source": [
    "insurance = read_data(\"insurance.txt\", encoding='UTF-8')  # 급여 사전 불러오기\n",
    "insurance_non = read_data(\"insurance_non.txt\", encoding='UTF-8')  # 비급여 사전 불러오기"
   ]
  },
  {
   "cell_type": "code",
   "execution_count": 185,
   "metadata": {},
   "outputs": [],
   "source": [
    "def Use_Dictionary(data, dictionary):   # 급여 비급여사전 이용하기\n",
    "    dictionary_found = []\n",
    "    for onedata in data:\n",
    "        oneline_word = onedata.split(' ')  # 한 줄의 데이터를 공백 단위로 분리하여 리스트로 저장\n",
    "        dictionary_temp = 0    # 일치하는 횟수 count에 사용               \n",
    "        for dict_word in dictionary:            # 사전의 어휘\n",
    "            if dict_word in oneline_word:\n",
    "                dictionary_temp += 1                # 현재의 단어와 일치하면 1점씩 가산 (중복X)\n",
    "        dictionary_found.append(dictionary_temp)     # 현재의 줄에서 찾은 감성단어의 숫자를 해당 위치에 저장\n",
    "    dictionary_sum = sum(dictionary_found)       # 총합\n",
    "    return dictionary_sum"
   ]
  },
  {
   "cell_type": "code",
   "execution_count": 186,
   "metadata": {},
   "outputs": [],
   "source": [
    "ins_list = [] # 급여 항목에서의 총합\n",
    "for i in result:\n",
    "    ins = Use_Dictionary(i, insurance)\n",
    "    ins_list.append(ins)\n",
    "ins_list = np.array(ins_list)  # 점수를 보기위해 array형태로 변환"
   ]
  },
  {
   "cell_type": "code",
   "execution_count": 187,
   "metadata": {},
   "outputs": [],
   "source": [
    "non_ins_list = []  # 비급여 항목에서의 총합\n",
    "for i in result: \n",
    "    non_ins = Use_Dictionary(i, insurance_non)\n",
    "    non_ins_list.append(ins)\n",
    "non_ins_list = np.array(non_ins_list) "
   ]
  },
  {
   "cell_type": "code",
   "execution_count": 188,
   "metadata": {},
   "outputs": [
    {
     "name": "stdout",
     "output_type": "stream",
     "text": [
      "급여점수:  [2 0 2 1]\n",
      "비급여점수:  [1 1 1 1]\n"
     ]
    }
   ],
   "source": [
    "print('급여점수: ' ,ins_list)\n",
    "print('비급여점수: ' ,non_ins_list)"
   ]
  },
  {
   "cell_type": "code",
   "execution_count": 189,
   "metadata": {},
   "outputs": [
    {
     "name": "stdout",
     "output_type": "stream",
     "text": [
      "1번째 결과: 1\n",
      "2번째 결과: 0\n",
      "3번째 결과: 1\n",
      "4번째 결과: 0\n"
     ]
    }
   ],
   "source": [
    "score_list = ins_list - non_ins_list # 총 점수\n",
    "num = 0   # 명칭개수에 대한 count\n",
    "for score in score_list:\n",
    "    num += 1\n",
    "    if score > 0:\n",
    "        print(f'{num}번째 결과: 1')  # 양수이면 급여항목이므로 환불대상\n",
    "    else:\n",
    "        print(f'{num}번째 결과: 0') # 그 이외의 경우는 ML모델로 넘어감"
   ]
  },
  {
   "cell_type": "code",
   "execution_count": 190,
   "metadata": {},
   "outputs": [
    {
     "data": {
      "text/plain": [
       "array([ 1, -1,  1,  0])"
      ]
     },
     "execution_count": 190,
     "metadata": {},
     "output_type": "execute_result"
    }
   ],
   "source": [
    "score_list  # 총 점수"
   ]
  },
  {
   "cell_type": "markdown",
   "metadata": {},
   "source": [
    "# ML model"
   ]
  },
  {
   "cell_type": "code",
   "execution_count": 191,
   "metadata": {},
   "outputs": [],
   "source": [
    "entryForML = []\n",
    "positiveScore = []\n",
    "score_list = score_list.tolist()"
   ]
  },
  {
   "cell_type": "code",
   "execution_count": 192,
   "metadata": {},
   "outputs": [],
   "source": [
    "#사전결과 0보다 작거나 같은 항목들만 ML에서 predict\n",
    "for i in range(0,len(score_list)):\n",
    "    if score_list[i] <= 0:\n",
    "        entryForML.append(i)\n",
    "    else:\n",
    "        positiveScore.append(i)"
   ]
  },
  {
   "cell_type": "code",
   "execution_count": 193,
   "metadata": {},
   "outputs": [
    {
     "data": {
      "text/plain": [
       "[0, 2]"
      ]
     },
     "execution_count": 193,
     "metadata": {},
     "output_type": "execute_result"
    }
   ],
   "source": [
    "positiveScore"
   ]
  },
  {
   "cell_type": "code",
   "execution_count": 194,
   "metadata": {},
   "outputs": [
    {
     "name": "stdout",
     "output_type": "stream",
     "text": [
      "0번째 항목은 급여일 가능성이 매우 높습니다. 신청을 원하시면 제출버튼을 눌러주세요.\n",
      "2번째 항목은 급여일 가능성이 매우 높습니다. 신청을 원하시면 제출버튼을 눌러주세요.\n"
     ]
    }
   ],
   "source": [
    "# 사전에서 걸러진 급여항목 출력\n",
    "for paid_idx in positiveScore:\n",
    "    print(str(paid_idx) + '번째 항목은 급여일 가능성이 매우 높습니다. 신청을 원하시면 제출버튼을 눌러주세요.')"
   ]
  },
  {
   "cell_type": "code",
   "execution_count": 195,
   "metadata": {},
   "outputs": [
    {
     "data": {
      "text/plain": [
       "[1, 3]"
      ]
     },
     "execution_count": 195,
     "metadata": {},
     "output_type": "execute_result"
    }
   ],
   "source": [
    "entryForML"
   ]
  },
  {
   "cell_type": "code",
   "execution_count": 196,
   "metadata": {},
   "outputs": [],
   "source": [
    "dfForML = non_benefit_DF.iloc[entryForML]"
   ]
  },
  {
   "cell_type": "code",
   "execution_count": 197,
   "metadata": {},
   "outputs": [
    {
     "name": "stderr",
     "output_type": "stream",
     "text": [
      "<ipython-input-197-f0faf9ab7951>:1: SettingWithCopyWarning: \n",
      "A value is trying to be set on a copy of a slice from a DataFrame.\n",
      "Try using .loc[row_indexer,col_indexer] = value instead\n",
      "\n",
      "See the caveats in the documentation: https://pandas.pydata.org/pandas-docs/stable/user_guide/indexing.html#returning-a-view-versus-a-copy\n",
      "  dfForML['보험자구분'] = dfForML['보험자구분'].apply(lambda x:x.replace(' ', ''))\n"
     ]
    }
   ],
   "source": [
    "dfForML['보험자구분'] = dfForML['보험자구분'].apply(lambda x:x.replace(' ', ''))"
   ]
  },
  {
   "cell_type": "code",
   "execution_count": 198,
   "metadata": {},
   "outputs": [
    {
     "data": {
      "text/html": [
       "<div>\n",
       "<style scoped>\n",
       "    .dataframe tbody tr th:only-of-type {\n",
       "        vertical-align: middle;\n",
       "    }\n",
       "\n",
       "    .dataframe tbody tr th {\n",
       "        vertical-align: top;\n",
       "    }\n",
       "\n",
       "    .dataframe thead th {\n",
       "        text-align: right;\n",
       "    }\n",
       "</style>\n",
       "<table border=\"1\" class=\"dataframe\">\n",
       "  <thead>\n",
       "    <tr style=\"text-align: right;\">\n",
       "      <th></th>\n",
       "      <th>분류코드(기관)</th>\n",
       "      <th>진료과목</th>\n",
       "      <th>보험자구분</th>\n",
       "      <th>항코드(중분류)</th>\n",
       "      <th>환자성별</th>\n",
       "      <th>환자 만 나이</th>\n",
       "      <th>연도 + 반기</th>\n",
       "      <th>상병기호</th>\n",
       "      <th>구분</th>\n",
       "      <th>요양기호</th>\n",
       "    </tr>\n",
       "  </thead>\n",
       "  <tbody>\n",
       "    <tr>\n",
       "      <th>1</th>\n",
       "      <td>645403580</td>\n",
       "      <td>내과</td>\n",
       "      <td>건강보험</td>\n",
       "      <td>0104 투약 및 조제료</td>\n",
       "      <td>0</td>\n",
       "      <td>22</td>\n",
       "      <td>20202</td>\n",
       "      <td>I499</td>\n",
       "      <td>요양급여대상여부 확인</td>\n",
       "      <td>21100390</td>\n",
       "    </tr>\n",
       "    <tr>\n",
       "      <th>3</th>\n",
       "      <td>621802460</td>\n",
       "      <td>내과</td>\n",
       "      <td>건강보험</td>\n",
       "      <td>0104 투약 및 조제료</td>\n",
       "      <td>0</td>\n",
       "      <td>22</td>\n",
       "      <td>20202</td>\n",
       "      <td>I499</td>\n",
       "      <td>요양급여대상여부 확인</td>\n",
       "      <td>21100390</td>\n",
       "    </tr>\n",
       "  </tbody>\n",
       "</table>\n",
       "</div>"
      ],
      "text/plain": [
       "    분류코드(기관) 진료과목 보험자구분       항코드(중분류)  환자성별  환자 만 나이 연도 + 반기  상병기호  \\\n",
       "1  645403580   내과  건강보험  0104 투약 및 조제료     0       22   20202  I499   \n",
       "3  621802460   내과  건강보험  0104 투약 및 조제료     0       22   20202  I499   \n",
       "\n",
       "            구분      요양기호  \n",
       "1  요양급여대상여부 확인  21100390  \n",
       "3  요양급여대상여부 확인  21100390  "
      ]
     },
     "execution_count": 198,
     "metadata": {},
     "output_type": "execute_result"
    }
   ],
   "source": [
    "dfForML"
   ]
  },
  {
   "cell_type": "code",
   "execution_count": 199,
   "metadata": {},
   "outputs": [
    {
     "name": "stdout",
     "output_type": "stream",
     "text": [
      "Requirement already satisfied: lightgbm in /Users/jubykim/opt/anaconda3/lib/python3.8/site-packages (3.2.1)\n",
      "Requirement already satisfied: scipy in /Users/jubykim/opt/anaconda3/lib/python3.8/site-packages (from lightgbm) (1.6.2)\n",
      "Requirement already satisfied: wheel in /Users/jubykim/opt/anaconda3/lib/python3.8/site-packages (from lightgbm) (0.36.2)\n",
      "Requirement already satisfied: numpy in /Users/jubykim/opt/anaconda3/lib/python3.8/site-packages (from lightgbm) (1.20.1)\n",
      "Requirement already satisfied: scikit-learn!=0.22.0 in /Users/jubykim/opt/anaconda3/lib/python3.8/site-packages (from lightgbm) (0.24.1)\n",
      "Requirement already satisfied: threadpoolctl>=2.0.0 in /Users/jubykim/opt/anaconda3/lib/python3.8/site-packages (from scikit-learn!=0.22.0->lightgbm) (2.1.0)\n",
      "Requirement already satisfied: joblib>=0.11 in /Users/jubykim/opt/anaconda3/lib/python3.8/site-packages (from scikit-learn!=0.22.0->lightgbm) (1.0.1)\n",
      "Note: you may need to restart the kernel to use updated packages.\n"
     ]
    }
   ],
   "source": [
    "pip install lightgbm"
   ]
  },
  {
   "cell_type": "code",
   "execution_count": 200,
   "metadata": {},
   "outputs": [
    {
     "name": "stdout",
     "output_type": "stream",
     "text": [
      "Requirement already satisfied: sklearn in /Users/jubykim/opt/anaconda3/lib/python3.8/site-packages (0.0)\n",
      "Requirement already satisfied: scikit-learn in /Users/jubykim/opt/anaconda3/lib/python3.8/site-packages (from sklearn) (0.24.1)\n",
      "Requirement already satisfied: threadpoolctl>=2.0.0 in /Users/jubykim/opt/anaconda3/lib/python3.8/site-packages (from scikit-learn->sklearn) (2.1.0)\n",
      "Requirement already satisfied: joblib>=0.11 in /Users/jubykim/opt/anaconda3/lib/python3.8/site-packages (from scikit-learn->sklearn) (1.0.1)\n",
      "Requirement already satisfied: scipy>=0.19.1 in /Users/jubykim/opt/anaconda3/lib/python3.8/site-packages (from scikit-learn->sklearn) (1.6.2)\n",
      "Requirement already satisfied: numpy>=1.13.3 in /Users/jubykim/opt/anaconda3/lib/python3.8/site-packages (from scikit-learn->sklearn) (1.20.1)\n",
      "Note: you may need to restart the kernel to use updated packages.\n"
     ]
    }
   ],
   "source": [
    "pip install sklearn"
   ]
  },
  {
   "cell_type": "code",
   "execution_count": 201,
   "metadata": {},
   "outputs": [
    {
     "name": "stdout",
     "output_type": "stream",
     "text": [
      "\u001b[31mERROR: Could not find a version that satisfies the requirement warnings\u001b[0m\n",
      "\u001b[31mERROR: No matching distribution found for warnings\u001b[0m\n",
      "Note: you may need to restart the kernel to use updated packages.\n"
     ]
    }
   ],
   "source": [
    "pip install warnings"
   ]
  },
  {
   "cell_type": "code",
   "execution_count": 202,
   "metadata": {},
   "outputs": [
    {
     "name": "stdout",
     "output_type": "stream",
     "text": [
      "\u001b[31mERROR: Could not find a version that satisfies the requirement pickle\u001b[0m\n",
      "\u001b[31mERROR: No matching distribution found for pickle\u001b[0m\n",
      "Note: you may need to restart the kernel to use updated packages.\n"
     ]
    }
   ],
   "source": [
    "pip install pickle"
   ]
  },
  {
   "cell_type": "code",
   "execution_count": 203,
   "metadata": {},
   "outputs": [],
   "source": [
    "from sklearn.preprocessing import LabelEncoder\n",
    "import lightgbm as lgb\n",
    "from sklearn.metrics import accuracy_score, recall_score, confusion_matrix, roc_auc_score, f1_score\n",
    "from sklearn.metrics import classification_report\n",
    "import warnings\n",
    "import pickle"
   ]
  },
  {
   "cell_type": "code",
   "execution_count": 204,
   "metadata": {},
   "outputs": [
    {
     "name": "stdout",
     "output_type": "stream",
     "text": [
      "<class 'pandas.core.frame.DataFrame'>\n",
      "Int64Index: 2 entries, 1 to 3\n",
      "Data columns (total 10 columns):\n",
      " #   Column    Non-Null Count  Dtype \n",
      "---  ------    --------------  ----- \n",
      " 0   분류코드(기관)  2 non-null      object\n",
      " 1   진료과목      2 non-null      object\n",
      " 2   보험자구분     2 non-null      object\n",
      " 3   항코드(중분류)  2 non-null      object\n",
      " 4   환자성별      2 non-null      int64 \n",
      " 5   환자 만 나이   2 non-null      int64 \n",
      " 6   연도 + 반기   2 non-null      object\n",
      " 7   상병기호      2 non-null      object\n",
      " 8   구분        2 non-null      object\n",
      " 9   요양기호      2 non-null      object\n",
      "dtypes: int64(2), object(8)\n",
      "memory usage: 176.0+ bytes\n"
     ]
    }
   ],
   "source": [
    "np_load_old = np.load\n",
    "np.load = lambda *a,**k : np_load_old(*a, allow_pickle=True)\n",
    "\n",
    "dfForML.info()"
   ]
  },
  {
   "cell_type": "code",
   "execution_count": 205,
   "metadata": {},
   "outputs": [
    {
     "name": "stderr",
     "output_type": "stream",
     "text": [
      "<ipython-input-205-57682d209255>:1: SettingWithCopyWarning: \n",
      "A value is trying to be set on a copy of a slice from a DataFrame.\n",
      "Try using .loc[row_indexer,col_indexer] = value instead\n",
      "\n",
      "See the caveats in the documentation: https://pandas.pydata.org/pandas-docs/stable/user_guide/indexing.html#returning-a-view-versus-a-copy\n",
      "  dfForML['환자성별'] = dfForML['환자성별'].astype('str')\n"
     ]
    }
   ],
   "source": [
    "dfForML['환자성별'] = dfForML['환자성별'].astype('str')"
   ]
  },
  {
   "cell_type": "code",
   "execution_count": 206,
   "metadata": {},
   "outputs": [
    {
     "name": "stderr",
     "output_type": "stream",
     "text": [
      "<ipython-input-206-f2b003241ddd>:5: SettingWithCopyWarning: \n",
      "A value is trying to be set on a copy of a slice from a DataFrame.\n",
      "Try using .loc[row_indexer,col_indexer] = value instead\n",
      "\n",
      "See the caveats in the documentation: https://pandas.pydata.org/pandas-docs/stable/user_guide/indexing.html#returning-a-view-versus-a-copy\n",
      "  dfForML['구분'] = le1.fit_transform(dfForML['구분'])\n",
      "<ipython-input-206-f2b003241ddd>:9: SettingWithCopyWarning: \n",
      "A value is trying to be set on a copy of a slice from a DataFrame.\n",
      "Try using .loc[row_indexer,col_indexer] = value instead\n",
      "\n",
      "See the caveats in the documentation: https://pandas.pydata.org/pandas-docs/stable/user_guide/indexing.html#returning-a-view-versus-a-copy\n",
      "  dfForML['연도 + 반기'] = le2.fit_transform(dfForML['연도 + 반기'])\n",
      "<ipython-input-206-f2b003241ddd>:13: SettingWithCopyWarning: \n",
      "A value is trying to be set on a copy of a slice from a DataFrame.\n",
      "Try using .loc[row_indexer,col_indexer] = value instead\n",
      "\n",
      "See the caveats in the documentation: https://pandas.pydata.org/pandas-docs/stable/user_guide/indexing.html#returning-a-view-versus-a-copy\n",
      "  dfForML['보험자구분'] = le3.fit_transform(dfForML['보험자구분'])\n",
      "<ipython-input-206-f2b003241ddd>:17: SettingWithCopyWarning: \n",
      "A value is trying to be set on a copy of a slice from a DataFrame.\n",
      "Try using .loc[row_indexer,col_indexer] = value instead\n",
      "\n",
      "See the caveats in the documentation: https://pandas.pydata.org/pandas-docs/stable/user_guide/indexing.html#returning-a-view-versus-a-copy\n",
      "  dfForML['분류코드(기관)'] = le4.fit_transform(dfForML['분류코드(기관)'])\n",
      "<ipython-input-206-f2b003241ddd>:21: SettingWithCopyWarning: \n",
      "A value is trying to be set on a copy of a slice from a DataFrame.\n",
      "Try using .loc[row_indexer,col_indexer] = value instead\n",
      "\n",
      "See the caveats in the documentation: https://pandas.pydata.org/pandas-docs/stable/user_guide/indexing.html#returning-a-view-versus-a-copy\n",
      "  dfForML['상병기호'] = le5.fit_transform(dfForML['상병기호'])\n",
      "<ipython-input-206-f2b003241ddd>:25: SettingWithCopyWarning: \n",
      "A value is trying to be set on a copy of a slice from a DataFrame.\n",
      "Try using .loc[row_indexer,col_indexer] = value instead\n",
      "\n",
      "See the caveats in the documentation: https://pandas.pydata.org/pandas-docs/stable/user_guide/indexing.html#returning-a-view-versus-a-copy\n",
      "  dfForML['요양기호'] = le6.fit_transform(dfForML['요양기호'])\n",
      "<ipython-input-206-f2b003241ddd>:29: SettingWithCopyWarning: \n",
      "A value is trying to be set on a copy of a slice from a DataFrame.\n",
      "Try using .loc[row_indexer,col_indexer] = value instead\n",
      "\n",
      "See the caveats in the documentation: https://pandas.pydata.org/pandas-docs/stable/user_guide/indexing.html#returning-a-view-versus-a-copy\n",
      "  dfForML['진료과목'] = le7.fit_transform(dfForML['진료과목'])\n",
      "<ipython-input-206-f2b003241ddd>:33: SettingWithCopyWarning: \n",
      "A value is trying to be set on a copy of a slice from a DataFrame.\n",
      "Try using .loc[row_indexer,col_indexer] = value instead\n",
      "\n",
      "See the caveats in the documentation: https://pandas.pydata.org/pandas-docs/stable/user_guide/indexing.html#returning-a-view-versus-a-copy\n",
      "  dfForML['항코드(중분류)'] = le8.fit_transform(dfForML['항코드(중분류)'])\n",
      "<ipython-input-206-f2b003241ddd>:37: SettingWithCopyWarning: \n",
      "A value is trying to be set on a copy of a slice from a DataFrame.\n",
      "Try using .loc[row_indexer,col_indexer] = value instead\n",
      "\n",
      "See the caveats in the documentation: https://pandas.pydata.org/pandas-docs/stable/user_guide/indexing.html#returning-a-view-versus-a-copy\n",
      "  dfForML['환자성별'] = le9.fit_transform(dfForML['환자성별'])\n"
     ]
    }
   ],
   "source": [
    "#학습시 사용했던 LabelEncoder 객체 사용\n",
    "\n",
    "le1 = LabelEncoder()\n",
    "le1.classes_ = np.load('./classes_구분.npy')\n",
    "dfForML['구분'] = le1.fit_transform(dfForML['구분'])\n",
    "\n",
    "le2 = LabelEncoder()\n",
    "le2.classes_ = np.load('./classes_반기.npy')\n",
    "dfForML['연도 + 반기'] = le2.fit_transform(dfForML['연도 + 반기'])\n",
    "\n",
    "le3 = LabelEncoder()\n",
    "le3.classes_ = np.load('./classes_보험자구분.npy')\n",
    "dfForML['보험자구분'] = le3.fit_transform(dfForML['보험자구분'])\n",
    "\n",
    "le4 = LabelEncoder()\n",
    "le4.classes_ = np.load('./classes_분류코드(기관).npy')\n",
    "dfForML['분류코드(기관)'] = le4.fit_transform(dfForML['분류코드(기관)'])\n",
    "\n",
    "le5 = LabelEncoder()\n",
    "le5.classes_ = np.load('./classes_상병기호.npy')\n",
    "dfForML['상병기호'] = le5.fit_transform(dfForML['상병기호'])\n",
    "\n",
    "le6 = LabelEncoder()\n",
    "le6.classes_ = np.load('./classes_요양기호.npy')\n",
    "dfForML['요양기호'] = le6.fit_transform(dfForML['요양기호'])\n",
    "\n",
    "le7 = LabelEncoder()\n",
    "le7.classes_ = np.load('./classes_진료과목.npy')\n",
    "dfForML['진료과목'] = le7.fit_transform(dfForML['진료과목'])\n",
    "\n",
    "le8 = LabelEncoder()\n",
    "le8.classes_ = np.load('./classes_항코드(중분류).npy')\n",
    "dfForML['항코드(중분류)'] = le8.fit_transform(dfForML['항코드(중분류)'])\n",
    "\n",
    "le9 = LabelEncoder()\n",
    "le9.classes_ = np.load('./classes_환자성별.npy')\n",
    "dfForML['환자성별'] = le9.fit_transform(dfForML['환자성별'])\n",
    "\n",
    "np.load = np_load_old"
   ]
  },
  {
   "cell_type": "code",
   "execution_count": 207,
   "metadata": {},
   "outputs": [],
   "source": [
    "X = dfForML"
   ]
  },
  {
   "cell_type": "code",
   "execution_count": 208,
   "metadata": {},
   "outputs": [],
   "source": [
    "model = pickle.load(open('./lgbm_original age_based on best f1score.sav', 'rb'))"
   ]
  },
  {
   "cell_type": "code",
   "execution_count": 209,
   "metadata": {},
   "outputs": [],
   "source": [
    "# best Threshold는 0.29692155636794143였으므로\n",
    "classification_results = model.predict_proba(X)[:, 1] >= 0.29692155636794143"
   ]
  },
  {
   "cell_type": "code",
   "execution_count": 210,
   "metadata": {},
   "outputs": [
    {
     "data": {
      "text/plain": [
       "[False, False]"
      ]
     },
     "execution_count": 210,
     "metadata": {},
     "output_type": "execute_result"
    }
   ],
   "source": [
    "classification_results = classification_results.tolist()\n",
    "classification_results"
   ]
  },
  {
   "cell_type": "code",
   "execution_count": 211,
   "metadata": {},
   "outputs": [],
   "source": [
    "prob = model.predict_proba(X)"
   ]
  },
  {
   "cell_type": "code",
   "execution_count": 212,
   "metadata": {},
   "outputs": [
    {
     "data": {
      "text/plain": [
       "array([[0.99770847, 0.00229153],\n",
       "       [0.99883255, 0.00116745]])"
      ]
     },
     "execution_count": 212,
     "metadata": {},
     "output_type": "execute_result"
    }
   ],
   "source": [
    "prob"
   ]
  },
  {
   "cell_type": "code",
   "execution_count": 213,
   "metadata": {},
   "outputs": [
    {
     "name": "stdout",
     "output_type": "stream",
     "text": [
      "1번째 항목은 환불불가 항목으로 분류되었습니다. 그래도 신청하시겠습니까?\n",
      "3번째 항목은 환불불가 항목으로 분류되었습니다. 그래도 신청하시겠습니까?\n"
     ]
    }
   ],
   "source": [
    "# 사용자에게 보여줄 문구 출력\n",
    "i = 0\n",
    "for j in entryForML:\n",
    "    k = classification_results[i]\n",
    "    if k == False:\n",
    "        print(str(j) + '번째 항목은 환불불가 항목으로 분류되었습니다. 그래도 신청하시겠습니까?')\n",
    "    else:\n",
    "        tmp = prob[i][1] * 100\n",
    "        print(str(j) + '번째 항목은 환불가능성이 ' + str(round(tmp, 3)) + '%로 환불가능 항목으로 분류되었습니다. 신청을 원하시면 제출버튼을 눌러주세요.')\n",
    "    i += 1"
   ]
  },
  {
   "cell_type": "code",
   "execution_count": null,
   "metadata": {},
   "outputs": [],
   "source": [
    "\n",
    "\n"
   ]
  },
  {
   "cell_type": "code",
   "execution_count": null,
   "metadata": {},
   "outputs": [],
   "source": []
  }
 ],
 "metadata": {
  "kernelspec": {
   "display_name": "Python 3",
   "language": "python",
   "name": "python3"
  },
  "language_info": {
   "codemirror_mode": {
    "name": "ipython",
    "version": 3
   },
   "file_extension": ".py",
   "mimetype": "text/x-python",
   "name": "python",
   "nbconvert_exporter": "python",
   "pygments_lexer": "ipython3",
   "version": "3.8.8"
  }
 },
 "nbformat": 4,
 "nbformat_minor": 4
}
